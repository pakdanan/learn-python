{
  "nbformat": 4,
  "nbformat_minor": 0,
  "metadata": {
    "colab": {
      "provenance": []
    },
    "kernelspec": {
      "name": "python3",
      "display_name": "Python 3"
    },
    "language_info": {
      "name": "python"
    }
  },
  "cells": [
    {
      "cell_type": "markdown",
      "source": [
        "**Lab 1: simple function**"
      ],
      "metadata": {
        "id": "Uysak1UXlPgM"
      }
    },
    {
      "cell_type": "code",
      "source": [
        "# define function\n",
        "def fun():\n",
        "\tprint(\"My fun function\")\n",
        "\n",
        "# call function\n",
        "fun()\n"
      ],
      "metadata": {
        "colab": {
          "base_uri": "https://localhost:8080/"
        },
        "id": "uQuS31mYmbU7",
        "outputId": "52429ffc-07b2-4902-e321-eda49a73294d"
      },
      "execution_count": null,
      "outputs": [
        {
          "output_type": "stream",
          "name": "stdout",
          "text": [
            "My fun function\n"
          ]
        }
      ]
    },
    {
      "cell_type": "markdown",
      "source": [
        "Lab 2: Parameters & Arguments"
      ],
      "metadata": {
        "id": "j5YPXxykmjJg"
      }
    },
    {
      "cell_type": "code",
      "source": [
        "# Here a,b are the parameters\n",
        "def sum(a,b):\n",
        "  print(a+b)\n",
        "\n",
        "# Here the values 1,2 are arguments\n",
        "sum(1,2)\n"
      ],
      "metadata": {
        "colab": {
          "base_uri": "https://localhost:8080/"
        },
        "id": "RoEABZKDmuHG",
        "outputId": "55e27d0f-e848-44cd-96e9-795eaf5cc684"
      },
      "execution_count": null,
      "outputs": [
        {
          "output_type": "stream",
          "name": "stdout",
          "text": [
            "3\n"
          ]
        }
      ]
    },
    {
      "cell_type": "markdown",
      "source": [
        "Lab 3: Arguments - Positional"
      ],
      "metadata": {
        "id": "sSvDoZZZm-JF"
      }
    },
    {
      "cell_type": "code",
      "source": [
        "def greet(name, greeting):\n",
        "    print(f\"{greeting}, {name}!\")\n",
        "\n",
        "greet(\"Alice\", \"Hello\")  # \"Hello, Alice!\"\n"
      ],
      "metadata": {
        "colab": {
          "base_uri": "https://localhost:8080/"
        },
        "id": "4d0X87CDnDv5",
        "outputId": "9a25406f-05d2-4999-9b2e-d66a8e8fc1b3"
      },
      "execution_count": null,
      "outputs": [
        {
          "output_type": "stream",
          "name": "stdout",
          "text": [
            "Hello, Alice!\n"
          ]
        }
      ]
    },
    {
      "cell_type": "markdown",
      "source": [
        "Lab 4: Arguments - Keyword"
      ],
      "metadata": {
        "id": "QeUwWufwnJuO"
      }
    },
    {
      "cell_type": "code",
      "source": [
        "def greet(name, greeting):\n",
        "    print(f\"{greeting}, {name}!\")\n",
        "\n",
        "greet(greeting=\"Hi\", name=\"Bob\")  # \"Hi, Bob!\""
      ],
      "metadata": {
        "colab": {
          "base_uri": "https://localhost:8080/"
        },
        "id": "1axjFBgtnOi8",
        "outputId": "0a70a7c4-20e1-4735-e4a4-37e2970a6e8d"
      },
      "execution_count": null,
      "outputs": [
        {
          "output_type": "stream",
          "name": "stdout",
          "text": [
            "Hi, Bob!\n"
          ]
        }
      ]
    },
    {
      "cell_type": "markdown",
      "source": [
        "Lab 5: Arguments - Default"
      ],
      "metadata": {
        "id": "SueIFxJQnVIJ"
      }
    },
    {
      "cell_type": "code",
      "source": [
        "def greet(name, greeting=\"Hello\"):\n",
        "    print(f\"{greeting}, {name}!\")\n",
        "\n",
        "greet(\"Eve\")  # \"Hello, Eve!\""
      ],
      "metadata": {
        "colab": {
          "base_uri": "https://localhost:8080/"
        },
        "id": "C59R6EE3naQE",
        "outputId": "8538dfbb-e3b1-43e5-f1d1-ae22a703695b"
      },
      "execution_count": null,
      "outputs": [
        {
          "output_type": "stream",
          "name": "stdout",
          "text": [
            "Hello, Eve!\n"
          ]
        }
      ]
    },
    {
      "cell_type": "markdown",
      "source": [
        "Lab 6: Arguments - Arbitrary - *args"
      ],
      "metadata": {
        "id": "bCHLTGtynil1"
      }
    },
    {
      "cell_type": "code",
      "source": [
        "def print_args(*args):\n",
        "    for arg in args:\n",
        "        print(arg)\n",
        "\n",
        "print_args(1, \"apple\", True)  # 1\\n\"apple\"\\nTrue\n",
        "print_args(1, \"apple\") # 1\\n\"apple\""
      ],
      "metadata": {
        "colab": {
          "base_uri": "https://localhost:8080/"
        },
        "id": "G7cViq3bnn4F",
        "outputId": "d4d3b980-6e59-4f3b-bbae-61ecfeff19b9"
      },
      "execution_count": null,
      "outputs": [
        {
          "output_type": "stream",
          "name": "stdout",
          "text": [
            "1\n",
            "apple\n",
            "True\n",
            "1\n",
            "apple\n"
          ]
        }
      ]
    },
    {
      "cell_type": "markdown",
      "source": [
        "Lab 7: Arguments - Arbitrary - *kwargs"
      ],
      "metadata": {
        "id": "Nt7PTyI1nxiY"
      }
    },
    {
      "cell_type": "code",
      "source": [
        "def print_kwargs(**kwargs):\n",
        "    for key, value in kwargs.items():\n",
        "        print(f\"{key}: {value}\")\n",
        "\n",
        "print_kwargs(name=\"Alice\", age=30)  # \"name: Alice\"\\n\"age: 30\""
      ],
      "metadata": {
        "colab": {
          "base_uri": "https://localhost:8080/"
        },
        "id": "GIz0pR_Fn4FU",
        "outputId": "2372f550-50c9-412f-d150-34aae4200a21"
      },
      "execution_count": null,
      "outputs": [
        {
          "output_type": "stream",
          "name": "stdout",
          "text": [
            "name: Alice\n",
            "age: 30\n"
          ]
        }
      ]
    },
    {
      "cell_type": "markdown",
      "source": [
        "Lab 8: Passing Lists/Dictionaries/etc."
      ],
      "metadata": {
        "id": "_1ZvXFN1n_Bq"
      }
    },
    {
      "cell_type": "code",
      "source": [
        "def print_list(numbers):\n",
        "    for num in numbers:\n",
        "        print(num)\n",
        "\n",
        "print_list([1, 2, 3, 4])  # 1\\n2\\n3\\n4\n",
        "\n",
        "def print_dict(my_dict):\n",
        "    for key, value in my_dict.items():\n",
        "        print(f\"{key}: {value}\")\n",
        "\n",
        "print_dict({\"name\": \"Bob\", \"age\": 25}) # Output: \"name: Bob\"\\n\"age: 25\""
      ],
      "metadata": {
        "colab": {
          "base_uri": "https://localhost:8080/"
        },
        "id": "u5d8xEKpoI-h",
        "outputId": "e0356d1e-95b2-4cd5-ea06-46586787ce07"
      },
      "execution_count": null,
      "outputs": [
        {
          "output_type": "stream",
          "name": "stdout",
          "text": [
            "1\n",
            "2\n",
            "3\n",
            "4\n",
            "name: Bob\n",
            "age: 25\n"
          ]
        }
      ]
    },
    {
      "cell_type": "markdown",
      "source": [
        "Lab 9: Different argument combinations"
      ],
      "metadata": {
        "id": "VdlUlHygoRq9"
      }
    },
    {
      "cell_type": "code",
      "source": [
        "def f(a, *b, c=6, **d): \t\t# compare it with def f(a, b=6, *c, **d)\n",
        "  print(f\"a: {a}\")\n",
        "  print(f\"b: {b}\")\n",
        "  print(f\"c: {c}\")\n",
        "  print(f\"d: {d}\")\n",
        "\n",
        "f(1, 2, 3, x=4, y=5)\t# Default used\n",
        "f(1, 2, 3, c=7, x=4, y=5) # Override default"
      ],
      "metadata": {
        "colab": {
          "base_uri": "https://localhost:8080/"
        },
        "id": "_8UVOwXsoXjx",
        "outputId": "05a9a954-d2e5-4f86-fd81-a3c7dcadd8af"
      },
      "execution_count": null,
      "outputs": [
        {
          "output_type": "stream",
          "name": "stdout",
          "text": [
            "a: 1\n",
            "b: (2, 3)\n",
            "c: 6\n",
            "d: {'x': 4, 'y': 5}\n",
            "a: 1\n",
            "b: (2, 3)\n",
            "c: 7\n",
            "d: {'x': 4, 'y': 5}\n"
          ]
        }
      ]
    },
    {
      "cell_type": "markdown",
      "source": [
        "Lab 10: Return Statements"
      ],
      "metadata": {
        "id": "RjJc6jCrodtp"
      }
    },
    {
      "cell_type": "code",
      "source": [
        "def add_numbers(a, b):\n",
        "    \"\"\"This function adds two numbers and returns the result.\"\"\"\n",
        "    result = a + b\n",
        "    return result\n",
        "\n",
        "# Call the function with a return value\n",
        "sum_result = add_numbers(5, 3)\n",
        "print(f\"The sum is: {sum_result}\")"
      ],
      "metadata": {
        "colab": {
          "base_uri": "https://localhost:8080/"
        },
        "id": "6f4S-GG6omk-",
        "outputId": "c5b5550d-a2ac-4c4d-de18-d0bbba3977e9"
      },
      "execution_count": null,
      "outputs": [
        {
          "output_type": "stream",
          "name": "stdout",
          "text": [
            "The sum is: 8\n"
          ]
        }
      ]
    },
    {
      "cell_type": "code",
      "source": [
        "def greet(name):\n",
        "    \"\"\"This function greets the person passed in as a parameter.\"\"\"\n",
        "    print(f\"Hello, {name}!\")\n",
        "\n",
        "# Call the function without a return value\n",
        "greet(\"Alice\")"
      ],
      "metadata": {
        "colab": {
          "base_uri": "https://localhost:8080/"
        },
        "id": "2G7j8JVKosSm",
        "outputId": "345147d8-04aa-4e3b-b404-4730100a73b2"
      },
      "execution_count": null,
      "outputs": [
        {
          "output_type": "stream",
          "name": "stdout",
          "text": [
            "Hello, Alice!\n"
          ]
        }
      ]
    },
    {
      "cell_type": "markdown",
      "source": [
        "Lab 11: It is executed at runtime"
      ],
      "metadata": {
        "id": "bi8oGmdrozKp"
      }
    },
    {
      "cell_type": "code",
      "source": [
        "if 'a' == 'a':\n",
        "    def greet():\n",
        "        return \"Hello, World!\"\n",
        "else:\n",
        "    def greet():\n",
        "        return \"Hi there!\""
      ],
      "metadata": {
        "id": "qw7jOKwWo7sU"
      },
      "execution_count": null,
      "outputs": []
    },
    {
      "cell_type": "code",
      "source": [
        "def say_hello():\n",
        "    print(\"Hello, World!\")\n",
        "\n",
        "greeting = say_hello  # Assigning the function to a different name\n",
        "greeting()  # Calls the function\n",
        "\n",
        "def say_hello():\n",
        "    print(\"Hello, Python!\")\n",
        "\n",
        "say_hello()  # Calls the updated function"
      ],
      "metadata": {
        "colab": {
          "base_uri": "https://localhost:8080/"
        },
        "id": "tToLEkJbpLQ9",
        "outputId": "7b608879-5163-46b6-b113-df1a75cc3aa4"
      },
      "execution_count": null,
      "outputs": [
        {
          "output_type": "stream",
          "name": "stdout",
          "text": [
            "Hello, World!\n",
            "Hello, Python!\n"
          ]
        }
      ]
    },
    {
      "cell_type": "code",
      "source": [
        "def divide_by_zero(a):\n",
        "    return a * 2 / ( a - a )\t\t# this is a bug\n",
        "\n",
        "print(\"After function creation\")\n",
        "\n",
        "# it’s not error until executed:\n",
        "result = divide_by_zero(5)  \t# comment this and see the differences\n",
        "print(\"After function is called/executed\")"
      ],
      "metadata": {
        "colab": {
          "base_uri": "https://localhost:8080/"
        },
        "id": "V_Odg-nfpSYw",
        "outputId": "62ecbb28-f697-49ba-8cd8-622168f596e9"
      },
      "execution_count": null,
      "outputs": [
        {
          "output_type": "stream",
          "name": "stdout",
          "text": [
            "After function creation\n",
            "After function is called/executed\n"
          ]
        }
      ]
    },
    {
      "cell_type": "markdown",
      "source": [
        "Lab 12: It is first class object"
      ],
      "metadata": {
        "id": "ffkZR3ABpcKd"
      }
    },
    {
      "cell_type": "code",
      "source": [
        "def greet(name):\n",
        "    return f\"Hello, {name}!\"\n",
        "\n",
        "# Assign the function to a variable\n",
        "my_function = greet\n",
        "\n",
        "# Call the function using the variable\n",
        "result = my_function(\"Alice\")\n",
        "print(result)  # Output: Hello, Alice!"
      ],
      "metadata": {
        "colab": {
          "base_uri": "https://localhost:8080/"
        },
        "id": "xy-nHTTYpmIW",
        "outputId": "ed5b93cf-aa85-4204-b14f-ceefc950fa29"
      },
      "execution_count": null,
      "outputs": [
        {
          "output_type": "stream",
          "name": "stdout",
          "text": [
            "Hello, Alice!\n"
          ]
        }
      ]
    },
    {
      "cell_type": "code",
      "source": [
        "def apply(func, x):\n",
        "    return func(x)\n",
        "\n",
        "def square(x):\n",
        "    return x * x\n",
        "\n",
        "result = apply(square, 5)\n",
        "print(result)  # Output: 25"
      ],
      "metadata": {
        "colab": {
          "base_uri": "https://localhost:8080/"
        },
        "id": "v-GUAshHptAD",
        "outputId": "ed19a381-8363-4b9e-ef8c-6b07e4aa46c3"
      },
      "execution_count": null,
      "outputs": [
        {
          "output_type": "stream",
          "name": "stdout",
          "text": [
            "25\n"
          ]
        }
      ]
    },
    {
      "cell_type": "code",
      "source": [
        "def get_multiplier(factor):\n",
        "    def multiplier(x):\n",
        "        return x * factor\n",
        "    return multiplier\n",
        "\n",
        "double = get_multiplier(2)\n",
        "triple = get_multiplier(3)\n",
        "\n",
        "print(double(5))  # Output: 10\n",
        "print(triple(5))  # Output: 15"
      ],
      "metadata": {
        "colab": {
          "base_uri": "https://localhost:8080/"
        },
        "id": "6MhWZcAfp2zM",
        "outputId": "4d2dcaf1-5b9c-4f52-fef0-ab26a4e079e9"
      },
      "execution_count": null,
      "outputs": [
        {
          "output_type": "stream",
          "name": "stdout",
          "text": [
            "10\n",
            "15\n"
          ]
        }
      ]
    },
    {
      "cell_type": "markdown",
      "source": [
        "Lab 13: Scope"
      ],
      "metadata": {
        "id": "l9lRlsG-p5cE"
      }
    },
    {
      "cell_type": "code",
      "source": [
        "def my_function():\n",
        "    x = 10  # x is in the local scope\n",
        "    print(x)\n",
        "\n",
        "def outer_function():\n",
        "    y = 20  # y is in the enclosing scope\n",
        "    def inner_function():\n",
        "        print(y)  # inner_function can access y from the enclosing scope\n",
        "\n",
        "z = 30  # z is in the global scope\n",
        "def another_function():\n",
        "    print(z)  # another_function can access z from the global scope\n",
        "\n",
        "print(len(\"Hello, World!\"))  # len is a built-in function"
      ],
      "metadata": {
        "colab": {
          "base_uri": "https://localhost:8080/"
        },
        "id": "-KLieTSPqBlA",
        "outputId": "9cb832ef-785d-4dce-b65c-bb035063fc0b"
      },
      "execution_count": null,
      "outputs": [
        {
          "output_type": "stream",
          "name": "stdout",
          "text": [
            "13\n"
          ]
        }
      ]
    },
    {
      "cell_type": "code",
      "source": [
        "global_var = 10  # Global variable\n",
        "\n",
        "def modify_global():\n",
        "    global global_var  # Use the global keyword to MODIFY the global variable\n",
        "    global_var = 20\n",
        "\n",
        "modify_global()\n",
        "print(global_var)  # This will print the modified global variable, which is 20\n"
      ],
      "metadata": {
        "colab": {
          "base_uri": "https://localhost:8080/"
        },
        "id": "Yd5_DZgEqKkM",
        "outputId": "2da907b4-100f-4579-a5fb-a31222a89ed3"
      },
      "execution_count": null,
      "outputs": [
        {
          "output_type": "stream",
          "name": "stdout",
          "text": [
            "20\n"
          ]
        }
      ]
    },
    {
      "cell_type": "markdown",
      "source": [
        "Lab 14: Pass by Object Reference"
      ],
      "metadata": {
        "id": "VJV_PHQFqPfT"
      }
    },
    {
      "cell_type": "code",
      "source": [
        "def modify_list(my_list):\n",
        "    my_list.append(4)  # Modifying the list inside the function\n",
        "\n",
        "my_list = [1, 2, 3]\n",
        "modify_list(my_list)\n",
        "print(my_list)  # Output: [1, 2, 3, 4]"
      ],
      "metadata": {
        "colab": {
          "base_uri": "https://localhost:8080/"
        },
        "id": "98GIv1qtqV17",
        "outputId": "0bc9153e-6aa4-4738-b8ce-c93551d84acc"
      },
      "execution_count": null,
      "outputs": [
        {
          "output_type": "stream",
          "name": "stdout",
          "text": [
            "[1, 2, 3, 4]\n"
          ]
        }
      ]
    },
    {
      "cell_type": "code",
      "source": [
        "def reassign_list(my_list):\n",
        "    my_list = [4, 5, 6]  # Reassigning the list to a new object\n",
        "\n",
        "my_list = [1, 2, 3]\n",
        "reassign_list(my_list)\n",
        "print(my_list)  # Output: [1, 2, 3]"
      ],
      "metadata": {
        "colab": {
          "base_uri": "https://localhost:8080/"
        },
        "id": "M82QgjcHqatQ",
        "outputId": "6979d79a-3b68-4140-9721-150259686f84"
      },
      "execution_count": null,
      "outputs": [
        {
          "output_type": "stream",
          "name": "stdout",
          "text": [
            "[1, 2, 3]\n"
          ]
        }
      ]
    },
    {
      "cell_type": "code",
      "source": [
        "def modify_integer(x):\n",
        "    x += 1  # Modifying the integer inside the function\n",
        "\n",
        "my_integer = 5\n",
        "modify_integer(my_integer)\n",
        "print(my_integer)  # Output: 5"
      ],
      "metadata": {
        "colab": {
          "base_uri": "https://localhost:8080/"
        },
        "id": "jvpiGT2KqipH",
        "outputId": "058410fd-a0dd-4b5d-c5ce-e47234d8f5b6"
      },
      "execution_count": null,
      "outputs": [
        {
          "output_type": "stream",
          "name": "stdout",
          "text": [
            "5\n"
          ]
        }
      ]
    },
    {
      "cell_type": "markdown",
      "source": [
        "Lab 15: Function Overloading"
      ],
      "metadata": {
        "id": "3zUxJ5BLqr3w"
      }
    },
    {
      "cell_type": "code",
      "source": [
        "def product(a, b):\n",
        "    print(a * b)\n",
        "\n",
        "def product(a, b, c):\n",
        "    print(a * b * c)\n",
        "\n",
        "# product(4, 5)\t# Uncommenting this shows an error\n",
        "\n",
        "product(4, 5, 5)\t# This line will call the last function\n",
        "\n",
        "# Try using *args to solve that problem"
      ],
      "metadata": {
        "colab": {
          "base_uri": "https://localhost:8080/"
        },
        "id": "Q4xszyr6quna",
        "outputId": "d0a5044c-48ca-467c-a385-5c778a6bd20e"
      },
      "execution_count": null,
      "outputs": [
        {
          "output_type": "stream",
          "name": "stdout",
          "text": [
            "100\n"
          ]
        }
      ]
    },
    {
      "cell_type": "markdown",
      "source": [
        "Lab 16: Function Recursion"
      ],
      "metadata": {
        "id": "s2cfC6DAq3rx"
      }
    },
    {
      "cell_type": "code",
      "source": [
        "def factorial(n):\n",
        "    if n == 0:\n",
        "        return 1\n",
        "    else:\n",
        "        return n * factorial(n - 1)\n",
        "\n",
        "result = factorial(5)\n",
        "print(result)  # Output: 120"
      ],
      "metadata": {
        "colab": {
          "base_uri": "https://localhost:8080/"
        },
        "id": "PAe2T6Spq6pW",
        "outputId": "83b6d30c-6bbd-4143-a401-03b54c413c8d"
      },
      "execution_count": null,
      "outputs": [
        {
          "output_type": "stream",
          "name": "stdout",
          "text": [
            "120\n"
          ]
        }
      ]
    },
    {
      "cell_type": "markdown",
      "source": [
        "Lab 17: Error Handling"
      ],
      "metadata": {
        "id": "ravxy7QSrDLW"
      }
    },
    {
      "cell_type": "code",
      "source": [
        "def divide(x, y):\n",
        "    try:\n",
        "        result = x / y\n",
        "    except ZeroDivisionError:\n",
        "        print(\"Error: Division by zero\")\n",
        "        return None\n",
        "    except TypeError:\n",
        "        print(\"Error: Invalid data types\")\n",
        "        return None\n",
        "    except Exception as e:\n",
        "        print(f\"An unexpected error occurred: {e}\")\n",
        "        return None\n",
        "    else:\n",
        "        return result\n",
        "    finally:\n",
        "        print(\"Division operation complete\")\n",
        "\n",
        "# Example usages\n",
        "print(divide(10, 2))  # Output: 5.0\n",
        "print(divide(10, 0))  # Output: Error: Division by zero\\nDivision operation complete\\nNone\n",
        "print(divide(\"10\", 0))  # Output: Error: Invalid data types\\nDivision operation complete\\nNone"
      ],
      "metadata": {
        "colab": {
          "base_uri": "https://localhost:8080/"
        },
        "id": "OcFOOHNQrEuW",
        "outputId": "401fdd3f-76bf-4dfc-c498-ca89ffdf50c2"
      },
      "execution_count": null,
      "outputs": [
        {
          "output_type": "stream",
          "name": "stdout",
          "text": [
            "Division operation complete\n",
            "5.0\n",
            "Error: Division by zero\n",
            "Division operation complete\n",
            "None\n",
            "Error: Invalid data types\n",
            "Division operation complete\n",
            "None\n"
          ]
        }
      ]
    },
    {
      "cell_type": "markdown",
      "source": [
        "Lab 18: Docstrings"
      ],
      "metadata": {
        "id": "wiMb3oWtrPZq"
      }
    },
    {
      "cell_type": "code",
      "source": [
        "def add(a, b):\n",
        "    \"\"\"\n",
        "    This function adds two numbers together.\n",
        "\n",
        "    Args:\n",
        "        a (int): The first number to be added.\n",
        "        b (int): The second number to be added.\n",
        "\n",
        "    Returns:\n",
        "        int: The sum of the two input numbers.\n",
        "\n",
        "    Example:\n",
        "        >>> add(3, 4)\n",
        "        7\n",
        "    \"\"\"\n",
        "    return a + b\n",
        "\n",
        "help(add)  # Displays the docstring"
      ],
      "metadata": {
        "colab": {
          "base_uri": "https://localhost:8080/"
        },
        "id": "EFeg_rKDrRZa",
        "outputId": "6a23bae0-6358-4dc2-bbe4-7a8cee988fe4"
      },
      "execution_count": null,
      "outputs": [
        {
          "output_type": "stream",
          "name": "stdout",
          "text": [
            "Help on function add in module __main__:\n",
            "\n",
            "add(a, b)\n",
            "    This function adds two numbers together.\n",
            "    \n",
            "    Args:\n",
            "        a (int): The first number to be added.\n",
            "        b (int): The second number to be added.\n",
            "        \n",
            "    Returns:\n",
            "        int: The sum of the two input numbers.\n",
            "        \n",
            "    Example:\n",
            "        >>> add(3, 4)\n",
            "        7\n",
            "\n"
          ]
        }
      ]
    },
    {
      "cell_type": "code",
      "source": [
        "dir(add)"
      ],
      "metadata": {
        "colab": {
          "base_uri": "https://localhost:8080/"
        },
        "id": "1JEoLwiyxnA0",
        "outputId": "32fdb514-5b6d-4b0f-952e-d547f0b6128c"
      },
      "execution_count": null,
      "outputs": [
        {
          "output_type": "execute_result",
          "data": {
            "text/plain": [
              "['__annotations__',\n",
              " '__builtins__',\n",
              " '__call__',\n",
              " '__class__',\n",
              " '__closure__',\n",
              " '__code__',\n",
              " '__defaults__',\n",
              " '__delattr__',\n",
              " '__dict__',\n",
              " '__dir__',\n",
              " '__doc__',\n",
              " '__eq__',\n",
              " '__format__',\n",
              " '__ge__',\n",
              " '__get__',\n",
              " '__getattribute__',\n",
              " '__globals__',\n",
              " '__gt__',\n",
              " '__hash__',\n",
              " '__init__',\n",
              " '__init_subclass__',\n",
              " '__kwdefaults__',\n",
              " '__le__',\n",
              " '__lt__',\n",
              " '__module__',\n",
              " '__name__',\n",
              " '__ne__',\n",
              " '__new__',\n",
              " '__qualname__',\n",
              " '__reduce__',\n",
              " '__reduce_ex__',\n",
              " '__repr__',\n",
              " '__setattr__',\n",
              " '__sizeof__',\n",
              " '__str__',\n",
              " '__subclasshook__']"
            ]
          },
          "metadata": {},
          "execution_count": 33
        }
      ]
    }
  ]
}